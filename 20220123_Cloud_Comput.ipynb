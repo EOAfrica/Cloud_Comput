{
 "cells": [
  {
   "cell_type": "markdown",
   "id": "02a566cd-889e-48b6-8cd5-e99951b822d8",
   "metadata": {
    "slideshow": {
     "slide_type": "slide"
    },
    "tags": []
   },
   "source": [
    "<table><tr>\n",
    "<tr>\n",
    "    <th style=\"width:30%\"></th>\n",
    "    <th style=\"width:70%\"></th>\n",
    "</tr>    \n",
    "<td width=\"30%\"> <img src=\"./Images/EOAFRICA-logo-transparent-bkg.png\" alt=\"logo\" width=\"100%\" style=\"display:block;\"/> </td>\n",
    "<td width=\"70%\"> <h1 class=\"title\"> <center> Cloud Computing </center></h1>\n",
    "    <h2 class=\"author\"> <center> Longzhu Shen </center></h2>\n",
    "    <h2 class=\"organisation\"> <center> University of Twente, ITC </center></h2>\n",
    "    <h3 class=\"date\"> <center> 23 Jan. 2022 </center></h3></td>\n",
    "</tr></table>"
   ]
  },
  {
   "cell_type": "markdown",
   "id": "a3257259-e81b-4aeb-9f78-6ea07f0aec6b",
   "metadata": {
    "slideshow": {
     "slide_type": "slide"
    },
    "tags": [],
    "toc-hr-collapsed": true
   },
   "source": [
    "# Introduction\n",
    "\n",
    "<a href=\"https://en.wikipedia.org/wiki/Cloud_computing\">\n",
    "<img src=\"./Images/20220123_Cloud_computing.png\" alt=\"cloudcomput\" width=\"70%\"/>\n",
    "</a>"
   ]
  },
  {
   "cell_type": "markdown",
   "id": "9723d125-a9bc-4f12-9567-0ec8b6df1aa3",
   "metadata": {
    "slideshow": {
     "slide_type": "subslide"
    },
    "tags": []
   },
   "source": [
    "## Definition\n",
    "\n",
    "***\n",
    "Cloud computing is a model for enabling convenient, on-demand network access to a shared pool of configurable computing resources (e.g., networks, servers, storage, applications, and services) that can be rapidly provisioned and released with minimal management effort or service provider interaction\n",
    "\n",
    "                       NIST, US National Institute of Standards and Technology\n",
    "***                                "
   ]
  },
  {
   "cell_type": "markdown",
   "id": "aa47157d-ee62-4de5-9940-86bac8f3df32",
   "metadata": {
    "slideshow": {
     "slide_type": "subslide"
    },
    "tags": []
   },
   "source": [
    "## Parsimony\n",
    "\n",
    "- Cloud \n",
    "- Computing "
   ]
  },
  {
   "cell_type": "markdown",
   "id": "7f2755f0-a896-44a4-8ce2-5ef140ad5b9a",
   "metadata": {
    "slideshow": {
     "slide_type": "subslide"
    },
    "tags": []
   },
   "source": [
    "## Dialectics \n",
    "\n",
    "- thesis : Main-frame computing \n",
    "- antithesis : PC \n",
    "- synthesis : Cloud computing"
   ]
  },
  {
   "cell_type": "markdown",
   "id": "4146f220-fb2b-4d43-a19d-c9d4bc76e40f",
   "metadata": {
    "slideshow": {
     "slide_type": "subslide"
    },
    "tags": []
   },
   "source": [
    "## Evolution\n",
    "\n",
    "- McCathy \n",
    "- Mainframe systems $\\rightarrow$ Intelligent terminals $\\rightarrow$ PC \n",
    "- Network : Parallel processing, Distributed computing\n",
    "\n",
    "<a href=\"https://en.wikipedia.org/wiki/Distributed_computing\">\n",
    "<img src=\"./Images/20220123_Distributed-parallel.png\" alt=\"distrcomput\" width=\"50%\"/>\n",
    "</a>"
   ]
  },
  {
   "cell_type": "markdown",
   "id": "83150947-6ec8-49be-9fad-960d2ab7ae00",
   "metadata": {
    "slideshow": {
     "slide_type": "subslide"
    },
    "tags": []
   },
   "source": [
    "## Evolution\n",
    "\n",
    "- Dynamic computing : Hardware virtualisation \n",
    "- Service oriented architecture \n",
    "- Utility computing\n",
    "- Autonomic computing\n",
    "- Cloud computing"
   ]
  },
  {
   "cell_type": "markdown",
   "id": "cf4f7684-fa1c-4355-b803-5c650fb946bf",
   "metadata": {
    "slideshow": {
     "slide_type": "subslide"
    },
    "tags": []
   },
   "source": [
    "## Characteristics \n",
    "\n",
    "- anytime, anywhere\n",
    "- pay per usage\n",
    "- on-demand service\n",
    "- on-line access\n",
    "- resource pooling \n",
    "- scalability \n",
    "- multi tenancy\n"
   ]
  },
  {
   "cell_type": "markdown",
   "id": "704b7c67-53ab-4a89-adf8-c1bdbcc43b17",
   "metadata": {
    "slideshow": {
     "slide_type": "subslide"
    },
    "tags": []
   },
   "source": [
    "## Benefits\n",
    "\n",
    "- cost \n",
    "- management resonsibilities \n",
    "- location independence accessibility\n",
    "- quick depoloyment \n",
    "- againt technical and physical challenges "
   ]
  },
  {
   "cell_type": "markdown",
   "id": "7a414d6b-cf2d-4c9b-9f4d-fb34fe3655cd",
   "metadata": {
    "slideshow": {
     "slide_type": "subslide"
    },
    "tags": []
   },
   "source": [
    "## Service Providers\n",
    "\n",
    "- Amazon Web Services (AWS)\n",
    "- Microsoft Azure\n",
    "- Google Cloud Platform"
   ]
  },
  {
   "cell_type": "markdown",
   "id": "94013388-0f8a-4348-b353-1b77523c4d54",
   "metadata": {
    "slideshow": {
     "slide_type": "subslide"
    },
    "tags": []
   },
   "source": [
    "## Service Models \n",
    "\n",
    "- Software as a Service (SaaS)\n",
    "- Platform as a Service (PaaS)\n",
    "- Infrastructure as a Service (IaaS)\n"
   ]
  },
  {
   "cell_type": "markdown",
   "id": "26b6b5b9-be3a-498c-80c5-61244407210d",
   "metadata": {
    "slideshow": {
     "slide_type": "subslide"
    },
    "tags": []
   },
   "source": [
    "## Depolyment Models\n",
    "\n",
    "- Public Cloud \n",
    "- Private Cloud \n",
    "- Hybride Cloud"
   ]
  },
  {
   "cell_type": "markdown",
   "id": "9367e757-a388-4bf7-bdc0-2d6b25daceaf",
   "metadata": {
    "slideshow": {
     "slide_type": "subslide"
    },
    "tags": []
   },
   "source": [
    "## Summary\n",
    "\n",
    "<a href=\"https://ip-mpls.com/cloud-computing/\">\n",
    "<img src=\"./Images/20220123_layered_cloud_services.png\" alt=\"layered_services\" width=\"80%\"/>\n",
    "</a>"
   ]
  },
  {
   "cell_type": "markdown",
   "id": "7b08b9f5-820a-423b-943c-f6c1c8966177",
   "metadata": {
    "slideshow": {
     "slide_type": "slide"
    },
    "tags": []
   },
   "source": [
    "## Foundation Principles\n",
    "\n",
    "- Advanced Web Technology \n",
    "- Virtualisation Technology "
   ]
  },
  {
   "cell_type": "markdown",
   "id": "f50e3f66-62bb-41bc-9300-0f2d7e93924f",
   "metadata": {
    "slideshow": {
     "slide_type": "fragment"
    },
    "tags": []
   },
   "source": [
    "    Cloud computing environment is composed of heterogeneous computing systems across different geolocations. "
   ]
  },
  {
   "cell_type": "markdown",
   "id": "419d789b-4cbe-4831-aae2-b3ab98bc792b",
   "metadata": {
    "slideshow": {
     "slide_type": "subslide"
    },
    "tags": []
   },
   "source": [
    "## Web Service \n",
    "\n",
    "    a software system designed to support interoperable machine-to-machine interaction over a network \n",
    "    \n",
    "                                                        \n",
    "                                                         -- world wide web consortium"
   ]
  },
  {
   "cell_type": "markdown",
   "id": "ef2f6834-dfea-4870-97d9-f7c4c1bf6784",
   "metadata": {
    "slideshow": {
     "slide_type": "subslide"
    },
    "tags": []
   },
   "source": [
    "## Web 2.0 \n",
    "\n",
    "<a href=\"https://en.wikipedia.org/wiki/Distributed_computing\">\n",
    "<img src=\"./Images/20220123_Web2.0_WordMap.png\" alt=\"web2.0\" width=\"80%\"/>\n",
    "</a>"
   ]
  },
  {
   "cell_type": "markdown",
   "id": "6686dd19-dd52-49ce-aaa9-9e8e90a2df24",
   "metadata": {
    "jp-MarkdownHeadingCollapsed": true,
    "slideshow": {
     "slide_type": "subslide"
    },
    "tags": []
   },
   "source": [
    "## Participatory Web \n",
    "- user-generated content \n",
    "- ease of use \n",
    "- participatory culture \n",
    "- interoperability "
   ]
  },
  {
   "cell_type": "markdown",
   "id": "54bda636-4171-4976-a466-af5c0e1f43d0",
   "metadata": {
    "slideshow": {
     "slide_type": "subslide"
    },
    "tags": []
   },
   "source": [
    "## Examples \n",
    "\n",
    "- social media : blogs, wikis, meta (facebook)\n",
    "- video streaming : youtube\n",
    "- e-commerce : ebay \n",
    "- on-line banking \n",
    "- e-learning "
   ]
  },
  {
   "cell_type": "markdown",
   "id": "d6e50b4c-0907-4fa1-8b15-ddcd4afdcd90",
   "metadata": {
    "slideshow": {
     "slide_type": "subslide"
    },
    "tags": []
   },
   "source": [
    "## Comparison\n",
    "\n",
    "<a href=\"www.intenseclick.com\">\n",
    "<img src=\"./Images/20220123_web1_vs_2.jpg\" alt=\"web1_v_2\" width=\"80%\"/>\n",
    "</a>"
   ]
  },
  {
   "cell_type": "markdown",
   "id": "3e720151-3df4-456a-bb69-49056166fa6e",
   "metadata": {
    "slideshow": {
     "slide_type": "subslide"
    },
    "tags": []
   },
   "source": [
    "## Implementation\n",
    "\n",
    "- Simple Access Object Protocol (SOAP)\n",
    "- Representational State Transfer (REST)"
   ]
  },
  {
   "cell_type": "markdown",
   "id": "13c9a253-4ee8-408b-b413-b139dbeb1e0d",
   "metadata": {
    "slideshow": {
     "slide_type": "subslide"
    },
    "tags": []
   },
   "source": [
    "## SOAP\n",
    "\n",
    "- Originally developed by Microsoft\n",
    "- XML format for message communication \n",
    "- standard protocol "
   ]
  },
  {
   "cell_type": "markdown",
   "id": "00fbc3d0-5233-4c22-a5e3-034767dac02d",
   "metadata": {
    "slideshow": {
     "slide_type": "subslide"
    },
    "tags": []
   },
   "source": [
    "## REST \n",
    "\n",
    "- a simpler way of communication \n",
    "- many standard formats : XML, JSON, plain text \n",
    "- architecture style"
   ]
  },
  {
   "cell_type": "markdown",
   "id": "fb3d44a2-3179-40ef-9e8f-41a37dc53759",
   "metadata": {
    "slideshow": {
     "slide_type": "subslide"
    },
    "tags": []
   },
   "source": [
    "## Virtualisation Technology\n",
    "\n",
    "    Representation physical computing resources in simulated forms"
   ]
  },
  {
   "cell_type": "markdown",
   "id": "e78e289a-fa33-4fc3-aeaa-a30a37ddc1bb",
   "metadata": {
    "slideshow": {
     "slide_type": "subslide"
    },
    "tags": []
   },
   "source": [
    "## Hypervisor-based Virtualisation\n",
    "\n",
    "\n",
    "<img src=\"./Images/20220123_Type-1-and-type-2-hypervisor.png\" alt=\"hypervisor\" width=\"80%\"/>\n"
   ]
  },
  {
   "cell_type": "markdown",
   "id": "1571c670-e297-46a0-b339-23b54cbd5a4d",
   "metadata": {
    "slideshow": {
     "slide_type": "subslide"
    },
    "tags": []
   },
   "source": [
    "## Categories\n",
    "\n",
    "- full virtualisation \n",
    "- para virtualisation \n",
    "- hardware virtualisation \n"
   ]
  },
  {
   "cell_type": "markdown",
   "id": "0d5435dd-34c9-427d-922d-cfe50cbe4439",
   "metadata": {
    "slideshow": {
     "slide_type": "subslide"
    },
    "tags": []
   },
   "source": [
    "## System Level Virtualisation\n",
    "\n",
    "- Kernel of OS installed over the physical system \n",
    "- Creation of logically-distinct user-space instances"
   ]
  },
  {
   "cell_type": "markdown",
   "id": "91ea76c8-8e33-4974-88ea-3d3db9842db7",
   "metadata": {
    "slideshow": {
     "slide_type": "subslide"
    },
    "tags": []
   },
   "source": [
    "## High Level Language (HLL) Virtual Machine \n",
    "HLL $\\rightarrow$ intermediate representation $\\rightarrow$ machine instructions\n"
   ]
  },
  {
   "cell_type": "markdown",
   "id": "e9e1d670-19e4-4210-94b4-f5a56c13d783",
   "metadata": {
    "slideshow": {
     "slide_type": "subslide"
    },
    "tags": []
   },
   "source": [
    "## Emulation\n",
    "\n",
    "- binary translation \n",
    "- interpretation"
   ]
  },
  {
   "cell_type": "markdown",
   "id": "65fdf857-c925-4c35-a603-87383b147e19",
   "metadata": {
    "slideshow": {
     "slide_type": "subslide"
    },
    "tags": []
   },
   "source": [
    "## Other Types of Virtualisation\n",
    "\n",
    "- network \n",
    "- storage"
   ]
  },
  {
   "cell_type": "markdown",
   "id": "462e5a27-e512-462f-be8e-4f98913aa67b",
   "metadata": {
    "slideshow": {
     "slide_type": "subslide"
    },
    "tags": []
   },
   "source": [
    "## Benefits\n",
    "\n",
    "- resource utlisation \n",
    "- cost reduction \n",
    "- simplified administration \n",
    "- security"
   ]
  },
  {
   "cell_type": "markdown",
   "id": "86f6762c-9c84-4f95-9f6d-4a5b4738e25d",
   "metadata": {
    "slideshow": {
     "slide_type": "slide"
    },
    "tags": []
   },
   "source": [
    "# Security Issues \n",
    "- Data integrity \n",
    "- Data theft\n",
    "- Privacy\n",
    "- Data location \n",
    "- Security on the vendor/user/infrastructure "
   ]
  },
  {
   "cell_type": "markdown",
   "id": "5382d06a-83f0-4fb6-a6bd-e4f97be92425",
   "metadata": {
    "slideshow": {
     "slide_type": "slide"
    },
    "tags": []
   },
   "source": [
    "# \n",
    "<h1 class=\"title\"> <center> Thanks for your attention! </center></h1>"
   ]
  },
  {
   "cell_type": "markdown",
   "id": "81e09eef-0ac5-4ff3-9e64-877b585488e6",
   "metadata": {
    "slideshow": {
     "slide_type": "slide"
    },
    "tags": []
   },
   "source": [
    "# References\n",
    "\n",
    "- https://en.wikipedia.org/wiki/Cloud_computing\n",
    "- https://en.wikipedia.org/wiki/Distributed_computing\n",
    "- https://en.wikipedia.org/wiki/Web_2.0\n",
    "- https://ip-mpls.com/cloud-computing/\n",
    "- Cloud computing, business trends and technologies, I. Feynberg _et al._, 1118501217 \n",
    "- Cloud Computing for Science and Engineering, I. Foster and D. B. Gannon, 0262037246 \n",
    "- Essentials of Cloud Computing, K. Chandrasekaran, 1482205432\n",
    "- Cloud Computing: An Introduction, R. Chopra, 1683920929 "
   ]
  }
 ],
 "metadata": {
  "kernelspec": {
   "display_name": "Python 3 (ipykernel)",
   "language": "python",
   "name": "python3"
  },
  "language_info": {
   "codemirror_mode": {
    "name": "ipython",
    "version": 3
   },
   "file_extension": ".py",
   "mimetype": "text/x-python",
   "name": "python",
   "nbconvert_exporter": "python",
   "pygments_lexer": "ipython3",
   "version": "3.10.1"
  },
  "toc-showmarkdowntxt": false
 },
 "nbformat": 4,
 "nbformat_minor": 5
}
